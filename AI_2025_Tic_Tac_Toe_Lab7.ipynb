{
 "cells": [
  {
   "cell_type": "code",
   "execution_count": 2,
   "id": "7e1c4634-ec89-43b1-a7fc-a55c5eefb4f9",
   "metadata": {},
   "outputs": [
    {
     "name": "stdin",
     "output_type": "stream",
     "text": [
      "Enter 1 for single player, 2 for multiplayer:  1\n"
     ]
    },
    {
     "name": "stdout",
     "output_type": "stream",
     "text": [
      "Computer : O Vs. You : X\n"
     ]
    },
    {
     "name": "stdin",
     "output_type": "stream",
     "text": [
      "Enter to play 1(st) or 2(nd) : 1\n"
     ]
    },
    {
     "name": "stdout",
     "output_type": "stream",
     "text": [
      "Current State Of Board : \n",
      "\n",
      "\n",
      "-  -  -  \n",
      "\n",
      "-  -  -  \n",
      "\n",
      "-  -  -  \n",
      "\n",
      "\n"
     ]
    },
    {
     "name": "stdin",
     "output_type": "stream",
     "text": [
      "Enter X's position from [1...9]:  3\n"
     ]
    },
    {
     "name": "stdout",
     "output_type": "stream",
     "text": [
      "Current State Of Board : \n",
      "\n",
      "\n",
      "-  -  X  \n",
      "\n",
      "-  O  -  \n",
      "\n",
      "-  -  -  \n",
      "\n",
      "\n"
     ]
    },
    {
     "name": "stdin",
     "output_type": "stream",
     "text": [
      "Enter X's position from [1...9]:  1\n"
     ]
    },
    {
     "name": "stdout",
     "output_type": "stream",
     "text": [
      "Current State Of Board : \n",
      "\n",
      "\n",
      "X  O  X  \n",
      "\n",
      "-  O  -  \n",
      "\n",
      "-  -  -  \n",
      "\n",
      "\n"
     ]
    },
    {
     "name": "stdin",
     "output_type": "stream",
     "text": [
      "Enter X's position from [1...9]:  8\n"
     ]
    },
    {
     "name": "stdout",
     "output_type": "stream",
     "text": [
      "Current State Of Board : \n",
      "\n",
      "\n",
      "X  O  X  \n",
      "\n",
      "O  O  -  \n",
      "\n",
      "-  X  -  \n",
      "\n",
      "\n"
     ]
    },
    {
     "name": "stdin",
     "output_type": "stream",
     "text": [
      "Enter X's position from [1...9]:  6\n"
     ]
    },
    {
     "name": "stdout",
     "output_type": "stream",
     "text": [
      "Current State Of Board : \n",
      "\n",
      "\n",
      "X  O  X  \n",
      "\n",
      "O  O  X  \n",
      "\n",
      "-  X  O  \n",
      "\n",
      "\n"
     ]
    },
    {
     "name": "stdin",
     "output_type": "stream",
     "text": [
      "Enter X's position from [1...9]:  7\n"
     ]
    },
    {
     "name": "stdout",
     "output_type": "stream",
     "text": [
      "Current State Of Board : \n",
      "\n",
      "\n",
      "X  O  X  \n",
      "\n",
      "O  O  X  \n",
      "\n",
      "X  X  O  \n",
      "\n",
      "\n",
      "Draw!!!\n"
     ]
    }
   ],
   "source": [
    "#This function is used to draw the board's current state every time the user turn arrives.\n",
    "def ConstBoard(board):\n",
    "    print(\"Current State Of Board : \\n\\n\");\n",
    "    for i in range (0,9):\n",
    "        if((i>0) and (i%3)==0):\n",
    "            print(\"\\n\");\n",
    "        if(board[i]==0):\n",
    "            print(\"- \",end=\" \");\n",
    "        if (board[i]==1):\n",
    "            print(\"O \",end=\" \");\n",
    "        if(board[i]==-1):\n",
    "            print(\"X \",end=\" \");\n",
    "    print(\"\\n\\n\");\n",
    "\n",
    "#This function takes the user move as input and make the required changes on the board.\n",
    "def User1Turn(board):\n",
    "    pos=input(\"Enter X's position from [1...9]: \");\n",
    "    pos=int(pos);\n",
    "    if(board[pos-1]!=0):\n",
    "        print(\"Wrong Move!!!\");\n",
    "        exit(0) ;\n",
    "    board[pos-1]=-1;\n",
    "\n",
    "def User2Turn(board):\n",
    "    pos=input(\"Enter O's position from [1...9]: \");\n",
    "    pos=int(pos);\n",
    "    if(board[pos-1]!=0):\n",
    "        print(\"Wrong Move!!!\");\n",
    "        exit(0);\n",
    "    board[pos-1]=1;\n",
    "\n",
    "#MinMax function.\n",
    "def minimax(board,player):\n",
    "    x=analyzeboard(board);\n",
    "    if(x!=0):\n",
    "        return (x*player);\n",
    "    pos=-1;\n",
    "    value=-2;\n",
    "    for i in range(0,9):\n",
    "        if(board[i]==0):\n",
    "            board[i]=player;\n",
    "            score=-minimax(board,(player*-1));\n",
    "            if(score>value):\n",
    "                value=score;\n",
    "                pos=i;\n",
    "            board[i]=0;\n",
    "\n",
    "    if(pos==-1):\n",
    "        return 0;\n",
    "    return value;\n",
    "\n",
    "#This function makes the computer's move using minmax algorithm.\n",
    "def CompTurn(board):\n",
    "    pos=-1;\n",
    "    value=-2;\n",
    "    for i in range(0,9):\n",
    "        if(board[i]==0):\n",
    "            board[i]=1;\n",
    "            score=-minimax(board, -1);\n",
    "            board[i]=0;\n",
    "            if(score>value):\n",
    "                value=score;\n",
    "                pos=i;\n",
    "\n",
    "    board[pos]=1;\n",
    "\n",
    "\n",
    "#This function is used to analyze a game.\n",
    "def analyzeboard(board):\n",
    "    cb=[[0,1,2],[3,4,5],[6,7,8],[0,3,6],[1,4,7],[2,5,8],[0,4,8],[2,4,6]];\n",
    "\n",
    "    for i in range(0,8):\n",
    "        if(board[cb[i][0]] != 0 and\n",
    "           board[cb[i][0]] == board[cb[i][1]] and\n",
    "           board[cb[i][0]] == board[cb[i][2]]):\n",
    "            return board[cb[i][2]];\n",
    "    return 0;\n",
    "\n",
    "#Main Function.\n",
    "def main():\n",
    "    choice=input(\"Enter 1 for single player, 2 for multiplayer: \");\n",
    "    choice=int(choice);\n",
    "    #The broad is considered in the form of a single dimentional array.\n",
    "    #One player moves 1 and other move -1.\n",
    "    board=[0,0,0,0,0,0,0,0,0];\n",
    "    if(choice==1):\n",
    "        print(\"Computer : O Vs. You : X\");\n",
    "        player= input(\"Enter to play 1(st) or 2(nd) :\");\n",
    "        player = int(player);\n",
    "        for i in range (0,9):\n",
    "            if(analyzeboard(board)!=0):\n",
    "                break;\n",
    "            if((i+player)%2==0):\n",
    "                CompTurn(board);\n",
    "            else:\n",
    "                ConstBoard(board);\n",
    "                User1Turn(board);\n",
    "    else:\n",
    "        for i in range (0,9):\n",
    "            if(analyzeboard(board)!=0):\n",
    "                break;\n",
    "            if((i)%2==0):\n",
    "                ConstBoard(board);\n",
    "                User1Turn(board);\n",
    "            else:\n",
    "                ConstBoard(board);\n",
    "                User2Turn(board);\n",
    "\n",
    "\n",
    "    x=analyzeboard(board);\n",
    "    if(x==0):\n",
    "         ConstBoard(board);\n",
    "         print(\"Draw!!!\")\n",
    "    if(x==-1):\n",
    "         ConstBoard(board);\n",
    "         print(\"X Wins!!! Y Loose !!!\")\n",
    "    if(x==1):\n",
    "         ConstBoard(board);\n",
    "         print(\"X Loose!!! O Wins !!!!\")\n",
    "\n",
    "#---------------#\n",
    "main()\n",
    "#---------------#\n",
    "\n"
   ]
  },
  {
   "cell_type": "code",
   "execution_count": null,
   "id": "f7e72013-2d71-4b3e-a3ba-23a987b551c7",
   "metadata": {},
   "outputs": [],
   "source": []
  }
 ],
 "metadata": {
  "kernelspec": {
   "display_name": "Python 3 (ipykernel)",
   "language": "python",
   "name": "python3"
  },
  "language_info": {
   "codemirror_mode": {
    "name": "ipython",
    "version": 3
   },
   "file_extension": ".py",
   "mimetype": "text/x-python",
   "name": "python",
   "nbconvert_exporter": "python",
   "pygments_lexer": "ipython3",
   "version": "3.11.7"
  }
 },
 "nbformat": 4,
 "nbformat_minor": 5
}
